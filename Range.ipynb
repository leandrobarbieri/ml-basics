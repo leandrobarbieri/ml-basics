{
  "nbformat": 4,
  "nbformat_minor": 0,
  "metadata": {
    "colab": {
      "name": "Range.ipynb",
      "provenance": [],
      "collapsed_sections": [],
      "toc_visible": true,
      "authorship_tag": "ABX9TyMbKMiUBy4LmKMKj7O5JaJr",
      "include_colab_link": true
    },
    "kernelspec": {
      "name": "python3",
      "display_name": "Python 3"
    },
    "language_info": {
      "name": "python"
    }
  },
  "cells": [
    {
      "cell_type": "markdown",
      "metadata": {
        "id": "view-in-github",
        "colab_type": "text"
      },
      "source": [
        "<a href=\"https://colab.research.google.com/github/leandrobarbieri/ml-basics/blob/master/Range.ipynb\" target=\"_parent\"><img src=\"https://colab.research.google.com/assets/colab-badge.svg\" alt=\"Open In Colab\"/></a>"
      ]
    },
    {
      "cell_type": "markdown",
      "source": [
        "# Range(inicio, quantidade, passo)\n",
        "Criar listas de sequencias numéricas específicas\n",
        "- uso padrão: range(quantidade) -- não incluisive, incremento de 1\n",
        "- uso completo: range(inicio, quantidade, passo)"
      ],
      "metadata": {
        "id": "isVZliujV7MM"
      }
    },
    {
      "cell_type": "code",
      "source": [
        "# range é um tipo\n",
        "type(range(5))"
      ],
      "metadata": {
        "colab": {
          "base_uri": "https://localhost:8080/"
        },
        "id": "5Q_1jQVqYABo",
        "outputId": "3418d5d9-4729-461d-cfaa-ece07c267401"
      },
      "execution_count": 9,
      "outputs": [
        {
          "output_type": "execute_result",
          "data": {
            "text/plain": [
              "range"
            ]
          },
          "metadata": {},
          "execution_count": 9
        }
      ]
    },
    {
      "cell_type": "code",
      "source": [
        "# para obter a lista temos que iterar sob ele ou transformar em lista\n",
        "print(list(range(5)))\n",
        "\n",
        "for i in range(5):\n",
        "  print(i)"
      ],
      "metadata": {
        "colab": {
          "base_uri": "https://localhost:8080/"
        },
        "id": "nPPfc6ljYIEg",
        "outputId": "f7cc45f7-5198-492e-acad-f5e420578ad0"
      },
      "execution_count": 12,
      "outputs": [
        {
          "output_type": "stream",
          "name": "stdout",
          "text": [
            "[0, 1, 2, 3, 4]\n",
            "0\n",
            "1\n",
            "2\n",
            "3\n",
            "4\n"
          ]
        }
      ]
    },
    {
      "cell_type": "code",
      "source": [
        "# inicio em zero e incremento de 1\n",
        "for i in range(5):\n",
        "  print(i)"
      ],
      "metadata": {
        "colab": {
          "base_uri": "https://localhost:8080/"
        },
        "id": "3SsOtVF4WGRo",
        "outputId": "b819681e-1429-4f90-84db-944bdb6aa411"
      },
      "execution_count": 3,
      "outputs": [
        {
          "output_type": "stream",
          "name": "stdout",
          "text": [
            "0\n",
            "1\n",
            "2\n",
            "3\n",
            "4\n"
          ]
        }
      ]
    },
    {
      "cell_type": "code",
      "source": [
        "# inicio em 4 e parada em 10\n",
        "for i in range(4, 11):\n",
        "  print(i)"
      ],
      "metadata": {
        "colab": {
          "base_uri": "https://localhost:8080/"
        },
        "id": "QFR-kQpVWP8z",
        "outputId": "5713d1ea-d045-4cde-cbb0-65923f194b32"
      },
      "execution_count": 4,
      "outputs": [
        {
          "output_type": "stream",
          "name": "stdout",
          "text": [
            "4\n",
            "5\n",
            "6\n",
            "7\n",
            "8\n",
            "9\n",
            "10\n"
          ]
        }
      ]
    },
    {
      "cell_type": "code",
      "source": [
        "# inicio em 1, valor de parada 9, passo 2\n",
        "for i in range(1, 10, 2):\n",
        "  print(i)"
      ],
      "metadata": {
        "colab": {
          "base_uri": "https://localhost:8080/"
        },
        "id": "a130ne2qWp7t",
        "outputId": "36c79d23-e9be-4d3b-8db5-52913e83a4f6"
      },
      "execution_count": 5,
      "outputs": [
        {
          "output_type": "stream",
          "name": "stdout",
          "text": [
            "1\n",
            "3\n",
            "5\n",
            "7\n",
            "9\n"
          ]
        }
      ]
    },
    {
      "cell_type": "code",
      "source": [
        "# REGRESSIVO\n",
        "for i in range(9, 0, -2):\n",
        "  print(i)"
      ],
      "metadata": {
        "colab": {
          "base_uri": "https://localhost:8080/"
        },
        "id": "3Fcn4E1FXEvt",
        "outputId": "3f45bd17-1ecb-451d-d7db-3f376e8f9a42"
      },
      "execution_count": 8,
      "outputs": [
        {
          "output_type": "stream",
          "name": "stdout",
          "text": [
            "9\n",
            "7\n",
            "5\n",
            "3\n",
            "1\n"
          ]
        }
      ]
    }
  ]
}