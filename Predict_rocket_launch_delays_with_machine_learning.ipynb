{
  "nbformat": 4,
  "nbformat_minor": 0,
  "metadata": {
    "colab": {
      "name": "Predict rocket launch delays with machine learning.ipynb",
      "provenance": [],
      "authorship_tag": "ABX9TyP+5rFLSNogOLSbKA0xKv13",
      "include_colab_link": true
    },
    "kernelspec": {
      "name": "python3",
      "display_name": "Python 3"
    },
    "language_info": {
      "name": "python"
    }
  },
  "cells": [
    {
      "cell_type": "markdown",
      "metadata": {
        "id": "view-in-github",
        "colab_type": "text"
      },
      "source": [
        "<a href=\"https://colab.research.google.com/github/leandrobarbieri/ml-basics/blob/master/Predict_rocket_launch_delays_with_machine_learning.ipynb\" target=\"_parent\"><img src=\"https://colab.research.google.com/assets/colab-badge.svg\" alt=\"Open In Colab\"/></a>"
      ]
    },
    {
      "cell_type": "markdown",
      "metadata": {
        "id": "FuPMNRuH2QY5"
      },
      "source": [
        " ### Predict rocket launch delays with machine learning\n",
        " #### É provável que ocorra um lançamento dadas as condições meteorológicas específicas?\n",
        "https://docs.microsoft.com/en-us/learn/paths/machine-learning-predict-launch-delay-nasa/\n",
        "\n",
        "---\n",
        "\n"
      ]
    },
    {
      "cell_type": "markdown",
      "metadata": {
        "id": "L-TgAYxu2b7J"
      },
      "source": [
        "#### Importando as bibliotecas"
      ]
    },
    {
      "cell_type": "code",
      "metadata": {
        "id": "t1uhpTqY2GNC"
      },
      "source": [
        "# Pandas library is used for handling tabular data\n",
        "import pandas as pd\n",
        "\n",
        "# NumPy is used for handling numerical series operations (addition, multiplication, and ...)\n",
        "\n",
        "import numpy as np\n",
        "# Sklearn library contains all the machine learning packages we need to digest and extract patterns from the data\n",
        "from sklearn import linear_model, model_selection, metrics\n",
        "from sklearn.model_selection import train_test_split\n",
        "\n",
        "# Machine learning libraries used to build a decision tree\n",
        "from sklearn.tree import DecisionTreeClassifier\n",
        "from sklearn import tree\n",
        "\n",
        "# Sklearn's preprocessing library is used for processing and cleaning the data \n",
        "from sklearn import preprocessing\n",
        "\n",
        "# for visualizing the tree\n",
        "import pydotplus\n",
        "from IPython.display import Image "
      ],
      "execution_count": null,
      "outputs": []
    },
    {
      "cell_type": "code",
      "metadata": {
        "colab": {
          "base_uri": "https://localhost:8080/",
          "height": 261
        },
        "id": "vJ-WXGJj2eXJ",
        "outputId": "1d306685-9c70-4e42-f0d7-2df2d6a421e7"
      },
      "source": [
        "dados = pd.read_excel(\"https://nasadata.blob.core.windows.net/rocketlaunches/RocketLaunchDataCompleted.xlsx\")\n",
        "dados.head(3)"
      ],
      "execution_count": null,
      "outputs": [
        {
          "output_type": "execute_result",
          "data": {
            "text/html": [
              "<div>\n",
              "<style scoped>\n",
              "    .dataframe tbody tr th:only-of-type {\n",
              "        vertical-align: middle;\n",
              "    }\n",
              "\n",
              "    .dataframe tbody tr th {\n",
              "        vertical-align: top;\n",
              "    }\n",
              "\n",
              "    .dataframe thead th {\n",
              "        text-align: right;\n",
              "    }\n",
              "</style>\n",
              "<table border=\"1\" class=\"dataframe\">\n",
              "  <thead>\n",
              "    <tr style=\"text-align: right;\">\n",
              "      <th></th>\n",
              "      <th>Name</th>\n",
              "      <th>Date</th>\n",
              "      <th>Time (East Coast)</th>\n",
              "      <th>Location</th>\n",
              "      <th>Crewed or Uncrewed</th>\n",
              "      <th>Launched?</th>\n",
              "      <th>High Temp</th>\n",
              "      <th>Low Temp</th>\n",
              "      <th>Ave Temp</th>\n",
              "      <th>Temp at Launch Time</th>\n",
              "      <th>Hist High Temp</th>\n",
              "      <th>Hist Low Temp</th>\n",
              "      <th>Hist Ave Temp</th>\n",
              "      <th>Percipitation at Launch Time</th>\n",
              "      <th>Hist Ave Percipitation</th>\n",
              "      <th>Wind Direction</th>\n",
              "      <th>Max Wind Speed</th>\n",
              "      <th>Visibility</th>\n",
              "      <th>Wind Speed at Launch Time</th>\n",
              "      <th>Hist Ave Max Wind Speed</th>\n",
              "      <th>Hist Ave Visibility</th>\n",
              "      <th>Sea Level Pressure</th>\n",
              "      <th>Hist Ave Sea Level Pressure</th>\n",
              "      <th>Day Length</th>\n",
              "      <th>Condition</th>\n",
              "      <th>Notes</th>\n",
              "    </tr>\n",
              "  </thead>\n",
              "  <tbody>\n",
              "    <tr>\n",
              "      <th>0</th>\n",
              "      <td>NaN</td>\n",
              "      <td>1958-12-04</td>\n",
              "      <td>NaN</td>\n",
              "      <td>Cape Canaveral</td>\n",
              "      <td>NaN</td>\n",
              "      <td>NaN</td>\n",
              "      <td>75.0</td>\n",
              "      <td>68.0</td>\n",
              "      <td>71.00</td>\n",
              "      <td>NaN</td>\n",
              "      <td>75.0</td>\n",
              "      <td>55.0</td>\n",
              "      <td>65.0</td>\n",
              "      <td>0.0</td>\n",
              "      <td>0.08</td>\n",
              "      <td>E</td>\n",
              "      <td>16.0</td>\n",
              "      <td>15.0</td>\n",
              "      <td>NaN</td>\n",
              "      <td>NaN</td>\n",
              "      <td>NaN</td>\n",
              "      <td>30.22</td>\n",
              "      <td>NaN</td>\n",
              "      <td>10:26:00</td>\n",
              "      <td>Cloudy</td>\n",
              "      <td>NaN</td>\n",
              "    </tr>\n",
              "    <tr>\n",
              "      <th>1</th>\n",
              "      <td>NaN</td>\n",
              "      <td>1958-12-05</td>\n",
              "      <td>NaN</td>\n",
              "      <td>Cape Canaveral</td>\n",
              "      <td>NaN</td>\n",
              "      <td>NaN</td>\n",
              "      <td>78.0</td>\n",
              "      <td>70.0</td>\n",
              "      <td>73.39</td>\n",
              "      <td>NaN</td>\n",
              "      <td>75.0</td>\n",
              "      <td>55.0</td>\n",
              "      <td>65.0</td>\n",
              "      <td>0.0</td>\n",
              "      <td>0.09</td>\n",
              "      <td>E</td>\n",
              "      <td>14.0</td>\n",
              "      <td>10.0</td>\n",
              "      <td>NaN</td>\n",
              "      <td>NaN</td>\n",
              "      <td>NaN</td>\n",
              "      <td>30.2</td>\n",
              "      <td>NaN</td>\n",
              "      <td>10:26:00</td>\n",
              "      <td>Cloudy</td>\n",
              "      <td>NaN</td>\n",
              "    </tr>\n",
              "    <tr>\n",
              "      <th>2</th>\n",
              "      <td>Pioneer 3</td>\n",
              "      <td>1958-12-06</td>\n",
              "      <td>01:45:00</td>\n",
              "      <td>Cape Canaveral</td>\n",
              "      <td>Uncrewed</td>\n",
              "      <td>Y</td>\n",
              "      <td>73.0</td>\n",
              "      <td>0.0</td>\n",
              "      <td>60.21</td>\n",
              "      <td>62.0</td>\n",
              "      <td>75.0</td>\n",
              "      <td>55.0</td>\n",
              "      <td>65.0</td>\n",
              "      <td>0.0</td>\n",
              "      <td>0.09</td>\n",
              "      <td>NE</td>\n",
              "      <td>15.0</td>\n",
              "      <td>10.0</td>\n",
              "      <td>11.0</td>\n",
              "      <td>NaN</td>\n",
              "      <td>NaN</td>\n",
              "      <td>30.25</td>\n",
              "      <td>NaN</td>\n",
              "      <td>10:25:00</td>\n",
              "      <td>Cloudy</td>\n",
              "      <td>NaN</td>\n",
              "    </tr>\n",
              "  </tbody>\n",
              "</table>\n",
              "</div>"
            ],
            "text/plain": [
              "        Name       Date Time (East Coast)  ... Day Length Condition Notes\n",
              "0        NaN 1958-12-04               NaN  ...   10:26:00    Cloudy   NaN\n",
              "1        NaN 1958-12-05               NaN  ...   10:26:00    Cloudy   NaN\n",
              "2  Pioneer 3 1958-12-06          01:45:00  ...   10:25:00    Cloudy   NaN\n",
              "\n",
              "[3 rows x 26 columns]"
            ]
          },
          "metadata": {
            "tags": []
          },
          "execution_count": 4
        }
      ]
    },
    {
      "cell_type": "markdown",
      "metadata": {
        "id": "cq7dW8-12kWB"
      },
      "source": [
        "### Exploração de dados\n",
        "\n",
        "\n"
      ]
    },
    {
      "cell_type": "code",
      "metadata": {
        "colab": {
          "base_uri": "https://localhost:8080/"
        },
        "id": "7SpOaSPb2oEB",
        "outputId": "1903b516-0d40-4491-b694-67011dfeb580"
      },
      "source": [
        "dados.info()\n",
        "\n",
        "# Estes campos não possuem dados, as colunas precisam ser tratadas\n",
        "# Hist Ave Max Wind Speed\n",
        "# Hist Ave Visibility\n",
        "# Hist Ave Sea Level Pressure\n",
        "# Existe um registro apenas com a data e location"
      ],
      "execution_count": null,
      "outputs": [
        {
          "output_type": "stream",
          "text": [
            "<class 'pandas.core.frame.DataFrame'>\n",
            "RangeIndex: 300 entries, 0 to 299\n",
            "Data columns (total 26 columns):\n",
            " #   Column                        Non-Null Count  Dtype         \n",
            "---  ------                        --------------  -----         \n",
            " 0   Name                          60 non-null     object        \n",
            " 1   Date                          300 non-null    datetime64[ns]\n",
            " 2   Time (East Coast)             59 non-null     object        \n",
            " 3   Location                      300 non-null    object        \n",
            " 4   Crewed or Uncrewed            60 non-null     object        \n",
            " 5   Launched?                     60 non-null     object        \n",
            " 6   High Temp                     299 non-null    float64       \n",
            " 7   Low Temp                      299 non-null    float64       \n",
            " 8   Ave Temp                      299 non-null    float64       \n",
            " 9   Temp at Launch Time           59 non-null     float64       \n",
            " 10  Hist High Temp                299 non-null    float64       \n",
            " 11  Hist Low Temp                 299 non-null    float64       \n",
            " 12  Hist Ave Temp                 299 non-null    float64       \n",
            " 13  Percipitation at Launch Time  299 non-null    float64       \n",
            " 14  Hist Ave Percipitation        299 non-null    float64       \n",
            " 15  Wind Direction                299 non-null    object        \n",
            " 16  Max Wind Speed                299 non-null    float64       \n",
            " 17  Visibility                    299 non-null    float64       \n",
            " 18  Wind Speed at Launch Time     59 non-null     float64       \n",
            " 19  Hist Ave Max Wind Speed       0 non-null      float64       \n",
            " 20  Hist Ave Visibility           0 non-null      float64       \n",
            " 21  Sea Level Pressure            299 non-null    object        \n",
            " 22  Hist Ave Sea Level Pressure   0 non-null      float64       \n",
            " 23  Day Length                    298 non-null    object        \n",
            " 24  Condition                     298 non-null    object        \n",
            " 25  Notes                         3 non-null      object        \n",
            "dtypes: datetime64[ns](1), float64(15), object(10)\n",
            "memory usage: 61.1+ KB\n"
          ],
          "name": "stdout"
        }
      ]
    },
    {
      "cell_type": "markdown",
      "metadata": {
        "id": "_0qcKnfD2u6S"
      },
      "source": [
        "### Observações:\n",
        "__Foram analisados 300 dias, porém apenas 60 tiveram lançamentos.__\n",
        "- Os campos: Name, Time (East Coast), Crewed or Uncrewed, Launched?, Temp at Launch Time, Wind Speed at Launch Time somente estão preenchidos para os dias de lançamento"
      ]
    },
    {
      "cell_type": "code",
      "metadata": {
        "colab": {
          "base_uri": "https://localhost:8080/"
        },
        "id": "litKeAi42rNR",
        "outputId": "dd960189-7bca-4a23-b70d-0e13a7a9683d"
      },
      "source": [
        "# dados[\"Name\"].value_counts()\n",
        "dados[\"Condition\"].value_counts()\n",
        "# dados[\"Wind Speed at Launch Time\"].value_counts()\n",
        "# dados[\"Visibility\"].value_counts()"
      ],
      "execution_count": null,
      "outputs": [
        {
          "output_type": "execute_result",
          "data": {
            "text/plain": [
              "Cloudy            113\n",
              "Fair               68\n",
              "Partly Cloudy      68\n",
              "Rain               24\n",
              "T-Storm            12\n",
              "Thunder             7\n",
              "Mostly Cloudy       2\n",
              "Windy               1\n",
              "Light Rain          1\n",
              "Heavy T-Storm       1\n",
              "Partly Cloudly      1\n",
              "Name: Condition, dtype: int64"
            ]
          },
          "metadata": {
            "tags": []
          },
          "execution_count": 6
        }
      ]
    },
    {
      "cell_type": "code",
      "metadata": {
        "colab": {
          "base_uri": "https://localhost:8080/",
          "height": 345
        },
        "id": "b3gcQGwP2xqB",
        "outputId": "ff179381-3f85-47ee-f782-7e8912e97ee5"
      },
      "source": [
        "dados[\"Condition\"].value_counts().plot.bar()"
      ],
      "execution_count": null,
      "outputs": [
        {
          "output_type": "execute_result",
          "data": {
            "text/plain": [
              "<matplotlib.axes._subplots.AxesSubplot at 0x7fabd04fb310>"
            ]
          },
          "metadata": {
            "tags": []
          },
          "execution_count": 7
        },
        {
          "output_type": "display_data",
          "data": {
            "image/png": "[encoded data removed]",
            "text/plain": [
              "<Figure size 432x288 with 1 Axes>"
            ]
          },
          "metadata": {
            "tags": [],
            "needs_background": "light"
          }
        }
      ]
    },
    {
      "cell_type": "markdown",
      "metadata": {
        "id": "Ep3ToCSo24wa"
      },
      "source": [
        "### Limpeza dos dados\n",
        "- subistituir valores none\n",
        "- tratar os valores nulos\n",
        "- padronizar as categorinas das colunas, transformar e numeros"
      ]
    },
    {
      "cell_type": "code",
      "metadata": {
        "colab": {
          "base_uri": "https://localhost:8080/",
          "height": 281
        },
        "id": "OhVmhnAb27HC",
        "outputId": "037cffb1-333c-41e5-c4e2-2e2286b3a998"
      },
      "source": [
        "# Linhas que que não possuem valores em \"Launched?\" preencher com o valor \"N\"\n",
        "dados[\"Launched?\"].fillna(\"N\", inplace=True)\n",
        "dados[\"Launched?\"].value_counts().plot.bar()"
      ],
      "execution_count": null,
      "outputs": [
        {
          "output_type": "execute_result",
          "data": {
            "text/plain": [
              "<matplotlib.axes._subplots.AxesSubplot at 0x7fabd0549350>"
            ]
          },
          "metadata": {
            "tags": []
          },
          "execution_count": 8
        },
        {
          "output_type": "display_data",
          "data": {
            "image/png": "[encoded data removed]",
            "text/plain": [
              "<Figure size 432x288 with 1 Axes>"
            ]
          },
          "metadata": {
            "tags": [],
            "needs_background": "light"
          }
        }
      ]
    },
    {
      "cell_type": "code",
      "metadata": {
        "colab": {
          "base_uri": "https://localhost:8080/"
        },
        "id": "BAVnSS3E280R",
        "outputId": "514a0ad3-4fb8-42c7-a97b-8574b7ee1aa7"
      },
      "source": [
        "# Valores em NaN da coluna \"Crewed or Uncrewed\", considerar como \"Uncrewed\"\n",
        "dados[\"Crewed or Uncrewed\"].fillna(\"Uncrewed\", inplace=True)\n",
        "dados[\"Crewed or Uncrewed\"].value_counts()"
      ],
      "execution_count": null,
      "outputs": [
        {
          "output_type": "execute_result",
          "data": {
            "text/plain": [
              "Uncrewed    284\n",
              "Crewed       16\n",
              "Name: Crewed or Uncrewed, dtype: int64"
            ]
          },
          "metadata": {
            "tags": []
          },
          "execution_count": 9
        }
      ]
    },
    {
      "cell_type": "code",
      "metadata": {
        "colab": {
          "base_uri": "https://localhost:8080/"
        },
        "id": "914ia51C2_Hx",
        "outputId": "9d5c1635-751b-4771-92c6-c8772c2a3b87"
      },
      "source": [
        "# Para valores NaN em \"Wind Direction\", considerar \"unknown\"\n",
        "dados[\"Wind Direction\"].fillna(\"unknown\", inplace=True)\n",
        "dados[\"Wind Direction\"].value_counts()"
      ],
      "execution_count": null,
      "outputs": [
        {
          "output_type": "execute_result",
          "data": {
            "text/plain": [
              "E          80\n",
              "W          54\n",
              "NE         42\n",
              "SE         38\n",
              "S          28\n",
              "NW         25\n",
              "N          19\n",
              "SW         13\n",
              "unknown     1\n",
              "Name: Wind Direction, dtype: int64"
            ]
          },
          "metadata": {
            "tags": []
          },
          "execution_count": 10
        }
      ]
    },
    {
      "cell_type": "code",
      "metadata": {
        "colab": {
          "base_uri": "https://localhost:8080/"
        },
        "id": "G_xA9qje3BOC",
        "outputId": "b5863a97-5d5d-486d-efff-c499f30a4e8c"
      },
      "source": [
        "# Para valores NaN em \"Condition\", considerar \"fair\" (razoavel)\n",
        "dados[\"Condition\"].fillna(\"Fair\", inplace=True)\n",
        "dados[\"Condition\"].value_counts()"
      ],
      "execution_count": null,
      "outputs": [
        {
          "output_type": "execute_result",
          "data": {
            "text/plain": [
              "Cloudy            113\n",
              "Fair               70\n",
              "Partly Cloudy      68\n",
              "Rain               24\n",
              "T-Storm            12\n",
              "Thunder             7\n",
              "Mostly Cloudy       2\n",
              "Windy               1\n",
              "Light Rain          1\n",
              "Heavy T-Storm       1\n",
              "Partly Cloudly      1\n",
              "Name: Condition, dtype: int64"
            ]
          },
          "metadata": {
            "tags": []
          },
          "execution_count": 11
        }
      ]
    },
    {
      "cell_type": "code",
      "metadata": {
        "id": "MjvqVEqP3Deh"
      },
      "source": [
        "# Todos os outros valores NaN converter para Sero\n",
        "dados.fillna(0, inplace=True)"
      ],
      "execution_count": null,
      "outputs": []
    },
    {
      "cell_type": "code",
      "metadata": {
        "colab": {
          "base_uri": "https://localhost:8080/",
          "height": 261
        },
        "id": "r_9zRy3a3F6B",
        "outputId": "74a4d928-8573-48b4-d494-2b77e579af21"
      },
      "source": [
        "# dados.head(50)\n",
        "\n",
        "# Lançamentos\n",
        "dados[dados.loc[:, \"Launched?\"] == \"Y\"].head(3)\n",
        "\n",
        "# Lançamentos tripulados\n",
        "# dados[dados.loc[:, \"Crewed or Uncrewed\"] == \"Crewed\"]"
      ],
      "execution_count": null,
      "outputs": [
        {
          "output_type": "execute_result",
          "data": {
            "text/html": [
              "<div>\n",
              "<style scoped>\n",
              "    .dataframe tbody tr th:only-of-type {\n",
              "        vertical-align: middle;\n",
              "    }\n",
              "\n",
              "    .dataframe tbody tr th {\n",
              "        vertical-align: top;\n",
              "    }\n",
              "\n",
              "    .dataframe thead th {\n",
              "        text-align: right;\n",
              "    }\n",
              "</style>\n",
              "<table border=\"1\" class=\"dataframe\">\n",
              "  <thead>\n",
              "    <tr style=\"text-align: right;\">\n",
              "      <th></th>\n",
              "      <th>Name</th>\n",
              "      <th>Date</th>\n",
              "      <th>Time (East Coast)</th>\n",
              "      <th>Location</th>\n",
              "      <th>Crewed or Uncrewed</th>\n",
              "      <th>Launched?</th>\n",
              "      <th>High Temp</th>\n",
              "      <th>Low Temp</th>\n",
              "      <th>Ave Temp</th>\n",
              "      <th>Temp at Launch Time</th>\n",
              "      <th>Hist High Temp</th>\n",
              "      <th>Hist Low Temp</th>\n",
              "      <th>Hist Ave Temp</th>\n",
              "      <th>Percipitation at Launch Time</th>\n",
              "      <th>Hist Ave Percipitation</th>\n",
              "      <th>Wind Direction</th>\n",
              "      <th>Max Wind Speed</th>\n",
              "      <th>Visibility</th>\n",
              "      <th>Wind Speed at Launch Time</th>\n",
              "      <th>Hist Ave Max Wind Speed</th>\n",
              "      <th>Hist Ave Visibility</th>\n",
              "      <th>Sea Level Pressure</th>\n",
              "      <th>Hist Ave Sea Level Pressure</th>\n",
              "      <th>Day Length</th>\n",
              "      <th>Condition</th>\n",
              "      <th>Notes</th>\n",
              "    </tr>\n",
              "  </thead>\n",
              "  <tbody>\n",
              "    <tr>\n",
              "      <th>2</th>\n",
              "      <td>Pioneer 3</td>\n",
              "      <td>1958-12-06</td>\n",
              "      <td>01:45:00</td>\n",
              "      <td>Cape Canaveral</td>\n",
              "      <td>Uncrewed</td>\n",
              "      <td>Y</td>\n",
              "      <td>73.0</td>\n",
              "      <td>0.0</td>\n",
              "      <td>60.21</td>\n",
              "      <td>62.0</td>\n",
              "      <td>75.0</td>\n",
              "      <td>55.0</td>\n",
              "      <td>65.0</td>\n",
              "      <td>0.0</td>\n",
              "      <td>0.09</td>\n",
              "      <td>NE</td>\n",
              "      <td>15.0</td>\n",
              "      <td>10.0</td>\n",
              "      <td>11.0</td>\n",
              "      <td>0.0</td>\n",
              "      <td>0.0</td>\n",
              "      <td>30.25</td>\n",
              "      <td>0.0</td>\n",
              "      <td>10:25:00</td>\n",
              "      <td>Cloudy</td>\n",
              "      <td>0</td>\n",
              "    </tr>\n",
              "    <tr>\n",
              "      <th>7</th>\n",
              "      <td>Pioneer 4</td>\n",
              "      <td>1959-03-03</td>\n",
              "      <td>13:10:00</td>\n",
              "      <td>Cape Canaveral</td>\n",
              "      <td>Uncrewed</td>\n",
              "      <td>Y</td>\n",
              "      <td>78.0</td>\n",
              "      <td>0.0</td>\n",
              "      <td>69.65</td>\n",
              "      <td>78.0</td>\n",
              "      <td>75.0</td>\n",
              "      <td>54.0</td>\n",
              "      <td>64.0</td>\n",
              "      <td>0.0</td>\n",
              "      <td>0.10</td>\n",
              "      <td>SE</td>\n",
              "      <td>20.0</td>\n",
              "      <td>7.0</td>\n",
              "      <td>12.0</td>\n",
              "      <td>0.0</td>\n",
              "      <td>0.0</td>\n",
              "      <td>30.13</td>\n",
              "      <td>0.0</td>\n",
              "      <td>11:38:00</td>\n",
              "      <td>Cloudy</td>\n",
              "      <td>0</td>\n",
              "    </tr>\n",
              "    <tr>\n",
              "      <th>12</th>\n",
              "      <td>Ranger 1</td>\n",
              "      <td>1961-08-23</td>\n",
              "      <td>11:04:00</td>\n",
              "      <td>Cape Canaveral</td>\n",
              "      <td>Uncrewed</td>\n",
              "      <td>Y</td>\n",
              "      <td>91.0</td>\n",
              "      <td>80.0</td>\n",
              "      <td>85.35</td>\n",
              "      <td>90.0</td>\n",
              "      <td>90.0</td>\n",
              "      <td>73.0</td>\n",
              "      <td>82.0</td>\n",
              "      <td>0.0</td>\n",
              "      <td>0.24</td>\n",
              "      <td>SE</td>\n",
              "      <td>20.0</td>\n",
              "      <td>10.0</td>\n",
              "      <td>9.0</td>\n",
              "      <td>0.0</td>\n",
              "      <td>0.0</td>\n",
              "      <td>30.03</td>\n",
              "      <td>0.0</td>\n",
              "      <td>12:56:00</td>\n",
              "      <td>Partly Cloudy</td>\n",
              "      <td>0</td>\n",
              "    </tr>\n",
              "  </tbody>\n",
              "</table>\n",
              "</div>"
            ],
            "text/plain": [
              "         Name       Date Time (East Coast)  ... Day Length      Condition Notes\n",
              "2   Pioneer 3 1958-12-06          01:45:00  ...   10:25:00         Cloudy     0\n",
              "7   Pioneer 4 1959-03-03          13:10:00  ...   11:38:00         Cloudy     0\n",
              "12   Ranger 1 1961-08-23          11:04:00  ...   12:56:00  Partly Cloudy     0\n",
              "\n",
              "[3 rows x 26 columns]"
            ]
          },
          "metadata": {
            "tags": []
          },
          "execution_count": 13
        }
      ]
    },
    {
      "cell_type": "code",
      "metadata": {
        "colab": {
          "base_uri": "https://localhost:8080/"
        },
        "id": "ocy9IwlP3KYS",
        "outputId": "341c88b2-49fd-49f9-8941-1a51b8c179ed"
      },
      "source": [
        "# Dados alterados\n",
        "dados.info()"
      ],
      "execution_count": null,
      "outputs": [
        {
          "output_type": "stream",
          "text": [
            "<class 'pandas.core.frame.DataFrame'>\n",
            "RangeIndex: 300 entries, 0 to 299\n",
            "Data columns (total 26 columns):\n",
            " #   Column                        Non-Null Count  Dtype         \n",
            "---  ------                        --------------  -----         \n",
            " 0   Name                          300 non-null    object        \n",
            " 1   Date                          300 non-null    datetime64[ns]\n",
            " 2   Time (East Coast)             300 non-null    object        \n",
            " 3   Location                      300 non-null    object        \n",
            " 4   Crewed or Uncrewed            300 non-null    object        \n",
            " 5   Launched?                     300 non-null    object        \n",
            " 6   High Temp                     300 non-null    float64       \n",
            " 7   Low Temp                      300 non-null    float64       \n",
            " 8   Ave Temp                      300 non-null    float64       \n",
            " 9   Temp at Launch Time           300 non-null    float64       \n",
            " 10  Hist High Temp                300 non-null    float64       \n",
            " 11  Hist Low Temp                 300 non-null    float64       \n",
            " 12  Hist Ave Temp                 300 non-null    float64       \n",
            " 13  Percipitation at Launch Time  300 non-null    float64       \n",
            " 14  Hist Ave Percipitation        300 non-null    float64       \n",
            " 15  Wind Direction                300 non-null    object        \n",
            " 16  Max Wind Speed                300 non-null    float64       \n",
            " 17  Visibility                    300 non-null    float64       \n",
            " 18  Wind Speed at Launch Time     300 non-null    float64       \n",
            " 19  Hist Ave Max Wind Speed       300 non-null    float64       \n",
            " 20  Hist Ave Visibility           300 non-null    float64       \n",
            " 21  Sea Level Pressure            300 non-null    object        \n",
            " 22  Hist Ave Sea Level Pressure   300 non-null    float64       \n",
            " 23  Day Length                    300 non-null    object        \n",
            " 24  Condition                     300 non-null    object        \n",
            " 25  Notes                         300 non-null    object        \n",
            "dtypes: datetime64[ns](1), float64(15), object(10)\n",
            "memory usage: 61.1+ KB\n"
          ],
          "name": "stdout"
        }
      ]
    },
    {
      "cell_type": "markdown",
      "metadata": {
        "id": "grG27OxU3QX8"
      },
      "source": [
        "### Transformação\n",
        "- Transformando dados categoricos de texto para números"
      ]
    },
    {
      "cell_type": "code",
      "metadata": {
        "id": "Sm0KrCLY3Q_m"
      },
      "source": [
        "encoder = preprocessing.LabelEncoder()\n",
        "dados[\"Crewed or Uncrewed2\"] = encoder.fit_transform(dados[\"Crewed or Uncrewed\"])\n",
        "dados['Wind Direction'] = encoder.fit_transform(dados['Wind Direction'])\n",
        "dados['Condition'] = encoder.fit_transform(dados['Condition'])"
      ],
      "execution_count": null,
      "outputs": []
    },
    {
      "cell_type": "code",
      "metadata": {
        "id": "jqXm62G43T4B",
        "colab": {
          "base_uri": "https://localhost:8080/",
          "height": 377
        },
        "outputId": "c207f2f9-8789-47dd-9273-5b6be67ac5d4"
      },
      "source": [
        "dados.head()"
      ],
      "execution_count": null,
      "outputs": [
        {
          "output_type": "execute_result",
          "data": {
            "text/html": [
              "<div>\n",
              "<style scoped>\n",
              "    .dataframe tbody tr th:only-of-type {\n",
              "        vertical-align: middle;\n",
              "    }\n",
              "\n",
              "    .dataframe tbody tr th {\n",
              "        vertical-align: top;\n",
              "    }\n",
              "\n",
              "    .dataframe thead th {\n",
              "        text-align: right;\n",
              "    }\n",
              "</style>\n",
              "<table border=\"1\" class=\"dataframe\">\n",
              "  <thead>\n",
              "    <tr style=\"text-align: right;\">\n",
              "      <th></th>\n",
              "      <th>Name</th>\n",
              "      <th>Date</th>\n",
              "      <th>Time (East Coast)</th>\n",
              "      <th>Location</th>\n",
              "      <th>Crewed or Uncrewed</th>\n",
              "      <th>Launched?</th>\n",
              "      <th>High Temp</th>\n",
              "      <th>Low Temp</th>\n",
              "      <th>Ave Temp</th>\n",
              "      <th>Temp at Launch Time</th>\n",
              "      <th>Hist High Temp</th>\n",
              "      <th>Hist Low Temp</th>\n",
              "      <th>Hist Ave Temp</th>\n",
              "      <th>Percipitation at Launch Time</th>\n",
              "      <th>Hist Ave Percipitation</th>\n",
              "      <th>Wind Direction</th>\n",
              "      <th>Max Wind Speed</th>\n",
              "      <th>Visibility</th>\n",
              "      <th>Wind Speed at Launch Time</th>\n",
              "      <th>Hist Ave Max Wind Speed</th>\n",
              "      <th>Hist Ave Visibility</th>\n",
              "      <th>Sea Level Pressure</th>\n",
              "      <th>Hist Ave Sea Level Pressure</th>\n",
              "      <th>Day Length</th>\n",
              "      <th>Condition</th>\n",
              "      <th>Notes</th>\n",
              "      <th>Crewed or Uncrewed2</th>\n",
              "    </tr>\n",
              "  </thead>\n",
              "  <tbody>\n",
              "    <tr>\n",
              "      <th>0</th>\n",
              "      <td>0</td>\n",
              "      <td>1958-12-04</td>\n",
              "      <td>0</td>\n",
              "      <td>Cape Canaveral</td>\n",
              "      <td>Uncrewed</td>\n",
              "      <td>N</td>\n",
              "      <td>75.0</td>\n",
              "      <td>68.0</td>\n",
              "      <td>71.00</td>\n",
              "      <td>0.0</td>\n",
              "      <td>75.0</td>\n",
              "      <td>55.0</td>\n",
              "      <td>65.0</td>\n",
              "      <td>0.0</td>\n",
              "      <td>0.08</td>\n",
              "      <td>0</td>\n",
              "      <td>16.0</td>\n",
              "      <td>15.0</td>\n",
              "      <td>0.0</td>\n",
              "      <td>0.0</td>\n",
              "      <td>0.0</td>\n",
              "      <td>30.22</td>\n",
              "      <td>0.0</td>\n",
              "      <td>10:26:00</td>\n",
              "      <td>0</td>\n",
              "      <td>0</td>\n",
              "      <td>1</td>\n",
              "    </tr>\n",
              "    <tr>\n",
              "      <th>1</th>\n",
              "      <td>0</td>\n",
              "      <td>1958-12-05</td>\n",
              "      <td>0</td>\n",
              "      <td>Cape Canaveral</td>\n",
              "      <td>Uncrewed</td>\n",
              "      <td>N</td>\n",
              "      <td>78.0</td>\n",
              "      <td>70.0</td>\n",
              "      <td>73.39</td>\n",
              "      <td>0.0</td>\n",
              "      <td>75.0</td>\n",
              "      <td>55.0</td>\n",
              "      <td>65.0</td>\n",
              "      <td>0.0</td>\n",
              "      <td>0.09</td>\n",
              "      <td>0</td>\n",
              "      <td>14.0</td>\n",
              "      <td>10.0</td>\n",
              "      <td>0.0</td>\n",
              "      <td>0.0</td>\n",
              "      <td>0.0</td>\n",
              "      <td>30.2</td>\n",
              "      <td>0.0</td>\n",
              "      <td>10:26:00</td>\n",
              "      <td>0</td>\n",
              "      <td>0</td>\n",
              "      <td>1</td>\n",
              "    </tr>\n",
              "    <tr>\n",
              "      <th>2</th>\n",
              "      <td>Pioneer 3</td>\n",
              "      <td>1958-12-06</td>\n",
              "      <td>01:45:00</td>\n",
              "      <td>Cape Canaveral</td>\n",
              "      <td>Uncrewed</td>\n",
              "      <td>Y</td>\n",
              "      <td>73.0</td>\n",
              "      <td>0.0</td>\n",
              "      <td>60.21</td>\n",
              "      <td>62.0</td>\n",
              "      <td>75.0</td>\n",
              "      <td>55.0</td>\n",
              "      <td>65.0</td>\n",
              "      <td>0.0</td>\n",
              "      <td>0.09</td>\n",
              "      <td>2</td>\n",
              "      <td>15.0</td>\n",
              "      <td>10.0</td>\n",
              "      <td>11.0</td>\n",
              "      <td>0.0</td>\n",
              "      <td>0.0</td>\n",
              "      <td>30.25</td>\n",
              "      <td>0.0</td>\n",
              "      <td>10:25:00</td>\n",
              "      <td>0</td>\n",
              "      <td>0</td>\n",
              "      <td>1</td>\n",
              "    </tr>\n",
              "    <tr>\n",
              "      <th>3</th>\n",
              "      <td>0</td>\n",
              "      <td>1958-12-07</td>\n",
              "      <td>0</td>\n",
              "      <td>Cape Canaveral</td>\n",
              "      <td>Uncrewed</td>\n",
              "      <td>N</td>\n",
              "      <td>76.0</td>\n",
              "      <td>57.0</td>\n",
              "      <td>66.04</td>\n",
              "      <td>0.0</td>\n",
              "      <td>75.0</td>\n",
              "      <td>55.0</td>\n",
              "      <td>65.0</td>\n",
              "      <td>0.0</td>\n",
              "      <td>0.08</td>\n",
              "      <td>1</td>\n",
              "      <td>10.0</td>\n",
              "      <td>10.0</td>\n",
              "      <td>0.0</td>\n",
              "      <td>0.0</td>\n",
              "      <td>0.0</td>\n",
              "      <td>30.28</td>\n",
              "      <td>0.0</td>\n",
              "      <td>10:25:00</td>\n",
              "      <td>6</td>\n",
              "      <td>0</td>\n",
              "      <td>1</td>\n",
              "    </tr>\n",
              "    <tr>\n",
              "      <th>4</th>\n",
              "      <td>0</td>\n",
              "      <td>1958-12-08</td>\n",
              "      <td>0</td>\n",
              "      <td>Cape Canaveral</td>\n",
              "      <td>Uncrewed</td>\n",
              "      <td>N</td>\n",
              "      <td>79.0</td>\n",
              "      <td>60.0</td>\n",
              "      <td>70.52</td>\n",
              "      <td>0.0</td>\n",
              "      <td>75.0</td>\n",
              "      <td>55.0</td>\n",
              "      <td>65.0</td>\n",
              "      <td>0.0</td>\n",
              "      <td>0.09</td>\n",
              "      <td>0</td>\n",
              "      <td>12.0</td>\n",
              "      <td>10.0</td>\n",
              "      <td>0.0</td>\n",
              "      <td>0.0</td>\n",
              "      <td>0.0</td>\n",
              "      <td>30.23</td>\n",
              "      <td>0.0</td>\n",
              "      <td>12:24:00</td>\n",
              "      <td>6</td>\n",
              "      <td>0</td>\n",
              "      <td>1</td>\n",
              "    </tr>\n",
              "  </tbody>\n",
              "</table>\n",
              "</div>"
            ],
            "text/plain": [
              "        Name       Date Time (East Coast)  ... Condition Notes Crewed or Uncrewed2\n",
              "0          0 1958-12-04                 0  ...         0     0                   1\n",
              "1          0 1958-12-05                 0  ...         0     0                   1\n",
              "2  Pioneer 3 1958-12-06          01:45:00  ...         0     0                   1\n",
              "3          0 1958-12-07                 0  ...         6     0                   1\n",
              "4          0 1958-12-08                 0  ...         6     0                   1\n",
              "\n",
              "[5 rows x 27 columns]"
            ]
          },
          "metadata": {
            "tags": []
          },
          "execution_count": 16
        }
      ]
    },
    {
      "cell_type": "code",
      "metadata": {
        "id": "7jM5UR633Wiy"
      },
      "source": [
        ""
      ],
      "execution_count": null,
      "outputs": []
    }
  ]
}